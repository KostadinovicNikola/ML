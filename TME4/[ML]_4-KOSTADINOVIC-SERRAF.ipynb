{
 "cells": [
  {
   "cell_type": "markdown",
   "id": "excess-island",
   "metadata": {},
   "source": [
    "<div align=\"center\">\n",
    "    <font size=10>\n",
    "        TME 4: Perceptron et projection\n",
    "    </font>\n",
    "</div>\n",
    "<br/>\n",
    "<div align=\"right\">\n",
    "    KOSTADINOVIC Nikola & SERRAF "
   ]
  },
  {
   "cell_type": "code",
   "execution_count": null,
   "id": "controversial-chapel",
   "metadata": {},
   "outputs": [],
   "source": []
  }
 ],
 "metadata": {
  "kernelspec": {
   "display_name": "Python 3",
   "language": "python",
   "name": "python3"
  },
  "language_info": {
   "codemirror_mode": {
    "name": "ipython",
    "version": 3
   },
   "file_extension": ".py",
   "mimetype": "text/x-python",
   "name": "python",
   "nbconvert_exporter": "python",
   "pygments_lexer": "ipython3",
   "version": "3.9.1"
  }
 },
 "nbformat": 4,
 "nbformat_minor": 5
}
